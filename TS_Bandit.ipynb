{
 "cells": [
  {
   "cell_type": "code",
   "execution_count": 384,
   "outputs": [],
   "source": [
    "%reset -f"
   ],
   "metadata": {
    "collapsed": false,
    "pycharm": {
     "name": "#%%\n"
    }
   }
  },
  {
   "cell_type": "code",
   "execution_count": 385,
   "metadata": {
    "collapsed": true,
    "pycharm": {
     "name": "#%%\n"
    }
   },
   "outputs": [],
   "source": [
    "import numpy as np\n",
    "from scipy.stats import beta\n",
    "import matplotlib.pyplot as plt\n",
    "import time\n",
    "import kl_ucb_policy"
   ]
  },
  {
   "cell_type": "code",
   "execution_count": 386,
   "outputs": [],
   "source": [
    "class TSBanditPolicy :\n",
    "    \"\"\"\n",
    "    Thompson Sampling Bandit\n",
    "    \"\"\"\n",
    "    def __init__(self, K, rate, Delta):\n",
    "        self.K = K\n",
    "        self.rate = rate\n",
    "        self.delta = Delta # packet error rate (PER) threshold\n",
    "        self.reset()\n",
    "\n",
    "    def reset(self):\n",
    "        self.a = np.ones(self.K) # success number for each rate\n",
    "        self.b = np.ones(self.K) # failure number for each rate\n",
    "\n",
    "    def select_next_arm(self):\n",
    "        p = beta.rvs(self.a, self.b) # estimated PER\n",
    "        p_avail = p.copy()*(p>self.delta) # available rates with PER larger than delta\n",
    "        if sum(p_avail) != 0:\n",
    "            selected_arm = np.argmax(np.multiply(p_avail,self.rate))\n",
    "        else:\n",
    "            selected_arm = np.argmax(p)\n",
    "        # print('indices are: ', indices)\n",
    "        return selected_arm\n",
    "\n",
    "    def update_state(self, k, r):\n",
    "        self.a[k] += r # update success number for selected rate k\n",
    "        self.b[k] += (1-r) # update failure number for selected rate k"
   ],
   "metadata": {
    "collapsed": false,
    "pycharm": {
     "name": "#%%\n"
    }
   }
  },
  {
   "cell_type": "code",
   "execution_count": 387,
   "outputs": [],
   "source": [
    "class CBanditPolicy(TSBanditPolicy):\n",
    "    \"\"\"\n",
    "    Correlated Bandit based on Thompson Sampling\n",
    "    \"\"\"\n",
    "    def __init__(self, K, rate, s, delta):\n",
    "        super().__init__(K, rate, delta)\n",
    "        self.s = s # conditional upper bound matrix [[K,K],[K,K]]\n",
    "        self.reset()\n",
    "\n",
    "    def reset(self):\n",
    "        super().reset()\n",
    "        self.A = np.zeros(self.K)\n",
    "        self.Phi = np.zeros([K,K]) # expected pseudo-rewards\n",
    "\n",
    "    def reduce_set(self):\n",
    "        # n = self.a + self.b - 2*self.K # selected times for each arm\n",
    "        # t = sum(n) # total time\n",
    "        # self.Sig_S = np.zeros(self.K)\n",
    "        # self.Sig_S += (n>=t/self.K) # a boolean array, 1 indicating significant rate, 0 indicating insignificant rate\n",
    "        # r_emp = (beta.rvs(self.a, self.b)*self.rate)*self.Sig_S\n",
    "        r_emp = beta.rvs(self.a, self.b)*self.rate\n",
    "        lead = np.argmax(r_emp) # leading arm in significant set\n",
    "        mu_lead = r_emp[lead]\n",
    "\n",
    "        # self.A = np.zeros(self.K) # competitive set, a boolean array. 1 indicating competitive rate, 0 indicating non-competitive rate\n",
    "        # for k in range(self.K):\n",
    "        #     phi_tmp =self.Sig_S*self.Phi[k,:]\n",
    "        #     if np.min(phi_tmp) >= mu_lead:\n",
    "        #         self.A[k] = 1\n",
    "        # self.A[lead] = 1\n",
    "        for k in range(self.K):\n",
    "            if np.min(self.Phi[k,:]) >= mu_lead:\n",
    "                self.A[k] = 1\n",
    "\n",
    "    def select_next_arm(self):\n",
    "        t = sum(self.a+self.b) - 2*self.K\n",
    "        if t <= K-1:\n",
    "            print('initialize t', t)\n",
    "            return int(t)\n",
    "        p = beta.rvs(self.a, self.b) # estimated PER\n",
    "        p_comp = p.copy()*self.A # competitive rates\n",
    "        selected_arm = np.argmax(np.multiply(p_comp,self.rate))\n",
    "        # print('indices are: ', indices)\n",
    "        return selected_arm\n",
    "\n",
    "    def update_state(self, k, r):\n",
    "        # print('the reward is', r)\n",
    "        self.a[k] += r # update success number for selected rate k\n",
    "        self.b[k] += (1-r) # update failure number for selected rate k\n",
    "        n = self.a[k] + self.b[k] - 2\n",
    "        for l in range(K):\n",
    "            self.Phi[l,k] = ((n-1)*self.Phi[l,k]+self.s[r][l,k])/n # update pseudo-rewards\n",
    "        # for k in range(K):\n",
    "        #     self.Phi[k,k] = beta.rvs(self.a[k],self.b[k])*rate[k]"
   ],
   "metadata": {
    "collapsed": false,
    "pycharm": {
     "name": "#%%\n"
    }
   }
  },
  {
   "cell_type": "code",
   "execution_count": 388,
   "outputs": [],
   "source": [
    "def construct_s(rate, K):\n",
    "    s = []\n",
    "    s.append(np.zeros([K,K]))\n",
    "    s.append(np.zeros([K,K]))\n",
    "    for k in range(K):\n",
    "        for l in range(K):\n",
    "            if rate[l] < rate[k]:\n",
    "                s[0][l,k] = rate[l]\n",
    "            else:\n",
    "                s[0][l,k] = 0\n",
    "    for k in range(K):\n",
    "        for l in range(K):\n",
    "            s[1][l,k] = rate[l]\n",
    "    return s"
   ],
   "metadata": {
    "collapsed": false,
    "pycharm": {
     "name": "#%%\n"
    }
   }
  },
  {
   "cell_type": "code",
   "execution_count": 389,
   "outputs": [],
   "source": [
    "class TSBandit_SW(TSBanditPolicy):\n",
    "    \"\"\"\n",
    "    TS_Bandit with Sliding Window\n",
    "    \"\"\"\n",
    "    def __init__(self, K, rate, Delta, tau):\n",
    "        super().__init__(K, rate, Delta)\n",
    "        self.tau = tau # window size\n",
    "\n",
    "    def reset(self):\n",
    "        self.a_window = [[] for i in range(self.K)] # sliding window for success number of each rate, [K,tau] matrix\n",
    "        self.b_window = [[] for i in range(self.K)] # sliding window for failure number of each rate, [K, tau] matrix\n",
    "        self.a = np.zeros(self.K)\n",
    "        self.b = np.zeros(self.K)\n",
    "\n",
    "    def update_state(self, k, r):\n",
    "        if len(self.a_window[k]) == self.tau:\n",
    "            self.a_window[k].pop(0)\n",
    "            self.a_window[k].append(r)\n",
    "            self.b_window[k].pop(0)\n",
    "            self.b_window[k].append(1-r)\n",
    "        else:\n",
    "            self.a_window[k].append(r)\n",
    "            self.b_window[k].append(1-r)\n",
    "        self.a[k] = sum(self.a_window[k]) # alpha is the sum of success numer in the window\n",
    "        self.b[k] = sum(self.b_window[k]) # beta is the sum of failure number in the window"
   ],
   "metadata": {
    "collapsed": false,
    "pycharm": {
     "name": "#%%\n"
    }
   }
  },
  {
   "cell_type": "code",
   "execution_count": 390,
   "outputs": [
    {
     "name": "stdout",
     "output_type": "stream",
     "text": [
      "Pi: [0.99 0.98 0.96 0.93 0.9  0.1  0.06 0.04]\n",
      "Delta: [15.66 12.78 10.08  4.86  0.   18.   18.72 19.44]\n"
     ]
    }
   ],
   "source": [
    "#Parameters for TS test\n",
    "p = np.array([.99, .98, .96, .93, .90, .10, .06, .04]) #Bernoulli Parameters\n",
    "# p = np.array([.95, .90, .80, .65, .45, .25, .15, .10])\n",
    "# p = np.array([.90, .80, .70, .55, .45, .35, .20, .10])\n",
    "rate = np.array([6, 9, 12, 18, 24, 36, 48, 54])\n",
    "tp = np.multiply(p,rate)\n",
    "\n",
    "K= p.shape[0] #Number of branches\n",
    "Delta= ( np.ones(K)*np.max(tp) ) - tp\n",
    "s = construct_s(rate, K)\n",
    "\n",
    "\n",
    "T= 5000 #Time periods\n",
    "runs = 1 #Number of iterations\n",
    "\n",
    "print(\"Pi:\",p)\n",
    "print(\"Delta:\",Delta)"
   ],
   "metadata": {
    "collapsed": false,
    "pycharm": {
     "name": "#%%\n"
    }
   }
  },
  {
   "cell_type": "markdown",
   "source": [
    "## Thompson Sampling Bandit Simulation"
   ],
   "metadata": {
    "collapsed": false,
    "pycharm": {
     "name": "#%% md\n"
    }
   }
  },
  {
   "cell_type": "code",
   "execution_count": 391,
   "outputs": [
    {
     "name": "stdout",
     "output_type": "stream",
     "text": [
      "initialize t 0.0\n",
      "initialize t 1.0\n",
      "initialize t 2.0\n",
      "initialize t 3.0\n",
      "initialize t 4.0\n",
      "initialize t 5.0\n",
      "initialize t 6.0\n",
      "initialize t 7.0\n"
     ]
    },
    {
     "name": "stderr",
     "output_type": "stream",
     "text": [
      "C:\\Users\\Jarvis\\AppData\\Local\\Temp\\ipykernel_7260\\1389708094.py:14: DeprecationWarning: `np.int` is a deprecated alias for the builtin `int`. To silence this warning, use `int` by itself. Doing this will not modify any behavior and is safe. When replacing `np.int`, you may wish to use e.g. `np.int64` or `np.int32` to specify the precision. If you wish to review your current use, check the release note link for additional information.\n",
      "Deprecated in NumPy 1.20; for more details and guidance: https://numpy.org/devdocs/release/1.20.0-notes.html#deprecations\n",
      "  actions_ts = np.zeros((K, T), dtype=np.int)\n",
      "C:\\Users\\Jarvis\\AppData\\Local\\Temp\\ipykernel_7260\\1389708094.py:15: DeprecationWarning: `np.float` is a deprecated alias for the builtin `float`. To silence this warning, use `float` by itself. Doing this will not modify any behavior and is safe. If you specifically wanted the numpy scalar type, use `np.float64` here.\n",
      "Deprecated in NumPy 1.20; for more details and guidance: https://numpy.org/devdocs/release/1.20.0-notes.html#deprecations\n",
      "  rewards_ts = np.zeros((K, T), dtype=np.float)\n",
      "C:\\Users\\Jarvis\\AppData\\Local\\Temp\\ipykernel_7260\\1389708094.py:18: DeprecationWarning: `np.int` is a deprecated alias for the builtin `int`. To silence this warning, use `int` by itself. Doing this will not modify any behavior and is safe. When replacing `np.int`, you may wish to use e.g. `np.int64` or `np.int32` to specify the precision. If you wish to review your current use, check the release note link for additional information.\n",
      "Deprecated in NumPy 1.20; for more details and guidance: https://numpy.org/devdocs/release/1.20.0-notes.html#deprecations\n",
      "  actions_klucb = np.zeros((K, T), dtype=np.int)\n",
      "C:\\Users\\Jarvis\\AppData\\Local\\Temp\\ipykernel_7260\\1389708094.py:19: DeprecationWarning: `np.float` is a deprecated alias for the builtin `float`. To silence this warning, use `float` by itself. Doing this will not modify any behavior and is safe. If you specifically wanted the numpy scalar type, use `np.float64` here.\n",
      "Deprecated in NumPy 1.20; for more details and guidance: https://numpy.org/devdocs/release/1.20.0-notes.html#deprecations\n",
      "  rewards_klucb = np.zeros((K, T), dtype=np.float)\n",
      "D:\\Academic\\RateControl\\Bandit_UCB\\bandits_kl-ucb-master\\kl_ucb_policy.py:9: RuntimeWarning: divide by zero encountered in log\n",
      "  result = p * np.log(p/q) + (1-p)*np.log((1-p)/(1-q))\n",
      "D:\\Academic\\RateControl\\Bandit_UCB\\bandits_kl-ucb-master\\kl_ucb_policy.py:9: RuntimeWarning: invalid value encountered in double_scalars\n",
      "  result = p * np.log(p/q) + (1-p)*np.log((1-p)/(1-q))\n",
      "D:\\Academic\\RateControl\\Bandit_UCB\\bandits_kl-ucb-master\\kl_ucb_policy.py:9: RuntimeWarning: invalid value encountered in log\n",
      "  result = p * np.log(p/q) + (1-p)*np.log((1-p)/(1-q))\n"
     ]
    }
   ],
   "source": [
    "# %%capture\n",
    "ts = CBanditPolicy(K, rate, s, 0)\n",
    "total_rewards_list_ts = np.zeros((runs, T))\n",
    "actions_list_ts = []\n",
    "\n",
    "klucb = kl_ucb_policy.KLUCBPolicy(K, rate) #Original KL UCB\n",
    "total_rewards_list_klucb = np.zeros((runs, T))\n",
    "actions_list_klucb = []\n",
    "\n",
    "start_time = time.time()\n",
    "\n",
    "for run in range(runs):\n",
    "    ts.reset()\n",
    "    actions_ts = np.zeros((K, T), dtype=np.int)\n",
    "    rewards_ts = np.zeros((K, T), dtype=np.float)\n",
    "\n",
    "    klucb.reset()\n",
    "    actions_klucb = np.zeros((K, T), dtype=np.int)\n",
    "    rewards_klucb = np.zeros((K, T), dtype=np.float)\n",
    "    for t in range(T):\n",
    "        ts.reduce_set()\n",
    "        arm_ts = ts.select_next_arm()\n",
    "        # print('selected arm is', arm_ts)\n",
    "        actions_ts[arm_ts, t] = 1\n",
    "        rewards_ts[arm_ts, t] = np.random.binomial(1, p[arm_ts]) * rate[arm_ts]\n",
    "        ts.update_state(arm_ts, int(rewards_ts[arm_ts, t] / rate[arm_ts]))\n",
    "\n",
    "        arm_klucb = klucb.select_next_arm()\n",
    "        actions_klucb[arm_klucb, t] = 1\n",
    "        rewards_klucb[arm_klucb, t] = np.random.binomial(1, p[arm_klucb]) * rate[arm_klucb]\n",
    "        klucb.update_state(arm_klucb, rewards_klucb[arm_klucb, t] / rate[arm_klucb])\n",
    "\n",
    "    cumulative_rewards_ts = np.cumsum(rewards_ts, axis=1) #Cumulative rewards of each arm according to time\n",
    "    total_rewards_ts = np.sum(cumulative_rewards_ts, axis=0) #Cumulative rewards of all arms according to time\n",
    "    total_rewards_list_ts[run, :] = np.copy(total_rewards_ts)\n",
    "    actions_list_ts.append(np.copy(actions_ts))\n",
    "\n",
    "    cumulative_rewards_klucb = np.cumsum(rewards_klucb, axis=1) #Cumulative rewards of each arm according to time\n",
    "    total_rewards_klucb = np.sum(cumulative_rewards_klucb, axis=0) #Cumulative rewards of all arms according to time\n",
    "    total_rewards_list_klucb[run, :] = np.copy(total_rewards_klucb)\n",
    "    actions_list_klucb.append(np.copy(actions_klucb))\n",
    "\n",
    "time_spent = time.time() - start_time"
   ],
   "metadata": {
    "collapsed": false,
    "pycharm": {
     "name": "#%%\n"
    }
   }
  },
  {
   "cell_type": "markdown",
   "source": [
    "## Simulation Result"
   ],
   "metadata": {
    "collapsed": false,
    "pycharm": {
     "name": "#%% md\n"
    }
   }
  },
  {
   "cell_type": "code",
   "execution_count": 392,
   "outputs": [
    {
     "name": "stdout",
     "output_type": "stream",
     "text": [
      "Time for Thompson Sampling, with T = 5000 , runs = 1 : 3.080695629119873 seconds\n",
      "t & Reward (total) TS : 4999 107661.0\n",
      "t & Reward (total) KL-UCB : 4999 104598.0\n"
     ]
    },
    {
     "data": {
      "text/plain": "<Figure size 864x576 with 1 Axes>",
      "image/png": "[encoded data removed]"
     },
     "metadata": {
      "needs_background": "light"
     },
     "output_type": "display_data"
    }
   ],
   "source": [
    "print(\"Time for Thompson Sampling, with T =\", T, \", runs =\", runs, \":\", (time_spent), \"seconds\")\n",
    "\n",
    "## Average total rewards\n",
    "mean_total_rewards_ts = np.mean(total_rewards_list_ts, axis=0)\n",
    "mean_total_rewards_klucb = np.mean(total_rewards_list_klucb, axis=0)\n",
    "print(\"t & Reward (total) TS :\", t, mean_total_rewards_ts[t])\n",
    "print(\"t & Reward (total) KL-UCB :\", t, mean_total_rewards_klucb[t])\n",
    "\n",
    "fig = plt.figure(figsize=(12, 8))\n",
    "ax1 = fig.add_subplot(1, 1, 1)\n",
    "ax1.plot(mean_total_rewards_ts, linestyle='-', label='Average total rewards of TS')\n",
    "ax1.plot(mean_total_rewards_klucb, linestyle='-', label='Average total rewards of KL-UCB')\n",
    "ax1.legend(loc='best')\n",
    "ax1.set_title('Evolution of cumulative rewards according to time')\n",
    "plt.show()"
   ],
   "metadata": {
    "collapsed": false,
    "pycharm": {
     "name": "#%%\n"
    }
   }
  },
  {
   "cell_type": "code",
   "execution_count": 393,
   "outputs": [
    {
     "data": {
      "text/plain": "<Figure size 864x576 with 1 Axes>",
      "image/png": "[encoded data removed]"
     },
     "metadata": {
      "needs_background": "light"
     },
     "output_type": "display_data"
    }
   ],
   "source": [
    "#Regrets calculation for TS\n",
    "total_action_ts = np.zeros((K, T))\n",
    "for actions_ts in actions_list_ts:\n",
    "    total_action_ts += np.cumsum(actions_ts, axis=1)  #The cumulative times of each arm to be selected\n",
    "total_action_ts = total_action_ts / runs\n",
    "regret_cumule_ts = np.dot(Delta, total_action_ts[:, :])  # Cumulative regrets\n",
    "\n",
    "total_action_klucb = np.zeros((K, T))\n",
    "for actions_klucb in actions_list_klucb:\n",
    "    total_action_klucb += np.cumsum(actions_klucb, axis=1) #The cumulative times of each arm to be selected\n",
    "total_action_klucb = total_action_klucb / runs\n",
    "regret_cumule_klucb = np.dot(Delta, total_action_klucb[:, :]) # Cumulative regrets\n",
    "\n",
    "fig = plt.figure(figsize=(12, 8))\n",
    "ax1 = fig.add_subplot(1, 1, 1)\n",
    "ax1.plot(regret_cumule_ts[:], linestyle='-', label='TS')\n",
    "ax1.plot(regret_cumule_klucb[:],linestyle='-', label='KL-UCB')\n",
    "\n",
    "ax1.legend(loc='best')\n",
    "ax1.grid()\n",
    "ax1.set_title('Evolution of average cumulative regrets according to time')\n",
    "#ax1.xscale('log')\n",
    "plt.show()"
   ],
   "metadata": {
    "collapsed": false,
    "pycharm": {
     "name": "#%%\n"
    }
   }
  }
 ],
 "metadata": {
  "kernelspec": {
   "display_name": "Python 3",
   "language": "python",
   "name": "python3"
  },
  "language_info": {
   "codemirror_mode": {
    "name": "ipython",
    "version": 2
   },
   "file_extension": ".py",
   "mimetype": "text/x-python",
   "name": "python",
   "nbconvert_exporter": "python",
   "pygments_lexer": "ipython2",
   "version": "2.7.6"
  }
 },
 "nbformat": 4,
 "nbformat_minor": 0
}