{
 "cells": [
  {
   "cell_type": "code",
   "execution_count": 13,
   "outputs": [],
   "source": [
    "%reset -f"
   ],
   "metadata": {
    "collapsed": false,
    "pycharm": {
     "name": "#%%\n"
    }
   }
  },
  {
   "cell_type": "code",
   "execution_count": 14,
   "metadata": {
    "collapsed": true,
    "pycharm": {
     "name": "#%%\n"
    }
   },
   "outputs": [],
   "source": [
    "import numpy as np\n",
    "from scipy.stats import beta\n",
    "import matplotlib.pyplot as plt\n",
    "import time\n",
    "import kl_ucb_policy\n",
    "import ts_bandit_policy"
   ]
  },
  {
   "cell_type": "code",
   "execution_count": 15,
   "outputs": [
    {
     "name": "stdout",
     "output_type": "stream",
     "text": [
      "Pi: [0.99 0.98 0.96 0.93 0.9  0.1  0.06 0.04]\n",
      "Delta: [15.66 12.78 10.08  4.86  0.   18.   18.72 19.44]\n"
     ]
    }
   ],
   "source": [
    "#Parameters for TS test\n",
    "p = np.array([.99, .98, .96, .93, 0.90, .10, .06, .04]) #Bernoulli Parameters\n",
    "# p = np.array([.95, .90, .80, .65, .45, .25, .15, .10])\n",
    "# p = np.array([.90, .80, .70, .55, .45, .35, .20, .10])\n",
    "rate = np.array([6, 9, 12, 18, 24, 36, 48, 54])\n",
    "tp = np.multiply(p,rate)\n",
    "\n",
    "K= p.shape[0] #Number of branches\n",
    "Delta= ( np.ones(K)*np.max(tp) ) - tp\n",
    "s = ts_bandit_policy.construct_s(rate, K)\n",
    "\n",
    "\n",
    "T= 5000 #Time periods\n",
    "runs = 10 #Number of iterations\n",
    "\n",
    "print(\"Pi:\",p)\n",
    "print(\"Delta:\",Delta)"
   ],
   "metadata": {
    "collapsed": false,
    "pycharm": {
     "name": "#%%\n"
    }
   }
  },
  {
   "cell_type": "markdown",
   "source": [
    "## Thompson Sampling Bandit Simulation"
   ],
   "metadata": {
    "collapsed": false,
    "pycharm": {
     "name": "#%% md\n"
    }
   }
  },
  {
   "cell_type": "code",
   "execution_count": 16,
   "outputs": [
    {
     "name": "stderr",
     "output_type": "stream",
     "text": [
      "D:\\Academic\\RateControl\\Fork\\Bandit_UCB\\kl_ucb_policy.py:153: RuntimeWarning: invalid value encountered in true_divide\n",
      "  r_emp = (self.S/self.N)*self.rate*self.Sig_S\n",
      "D:\\Academic\\RateControl\\Fork\\Bandit_UCB\\kl_ucb_policy.py:58: RuntimeWarning: divide by zero encountered in log\n",
      "  upperbound = np.log(t)/N[k]\n",
      "D:\\Academic\\RateControl\\Fork\\Bandit_UCB\\kl_ucb_policy.py:59: RuntimeWarning: invalid value encountered in double_scalars\n",
      "  reward = S[k]/N[k]\n",
      "D:\\Academic\\RateControl\\Fork\\Bandit_UCB\\kl_ucb_policy.py:186: RuntimeWarning: invalid value encountered in double_scalars\n",
      "  self.Phi[k,k] = self.S[k]/self.N[k]*self.rate[k]\n",
      "D:\\Academic\\RateControl\\Fork\\Bandit_UCB\\kl_ucb_policy.py:58: RuntimeWarning: invalid value encountered in double_scalars\n",
      "  upperbound = np.log(t)/N[k]\n",
      "D:\\Academic\\RateControl\\Fork\\Bandit_UCB\\kl_ucb_policy.py:58: RuntimeWarning: divide by zero encountered in double_scalars\n",
      "  upperbound = np.log(t)/N[k]\n",
      "D:\\Academic\\RateControl\\Fork\\Bandit_UCB\\kl_ucb_policy.py:8: RuntimeWarning: divide by zero encountered in log\n",
      "  result = p * np.log(p/q) + (1-p)*np.log((1-p)/(1-q))\n",
      "D:\\Academic\\RateControl\\Fork\\Bandit_UCB\\kl_ucb_policy.py:8: RuntimeWarning: invalid value encountered in double_scalars\n",
      "  result = p * np.log(p/q) + (1-p)*np.log((1-p)/(1-q))\n",
      "D:\\Academic\\RateControl\\Fork\\Bandit_UCB\\kl_ucb_policy.py:8: RuntimeWarning: invalid value encountered in log\n",
      "  result = p * np.log(p/q) + (1-p)*np.log((1-p)/(1-q))\n"
     ]
    }
   ],
   "source": [
    "# %%capture\n",
    "c_ts = ts_bandit_policy.CBanditPolicy(K, rate, s, 0)\n",
    "total_rewards_list_c_ts = np.zeros((runs, T))\n",
    "actions_list_c_ts = []\n",
    "\n",
    "ts = ts_bandit_policy.TSBanditPolicy(K, rate, 0)\n",
    "total_rewards_list_ts = np.zeros((runs, T))\n",
    "actions_list_ts = []\n",
    "\n",
    "cklucb = kl_ucb_policy.C_KLUCB(K, rate, s) #Original KL UCB\n",
    "total_rewards_list_cklucb = np.zeros((runs, T))\n",
    "actions_list_cklucb = []\n",
    "\n",
    "klucb = kl_ucb_policy.KLUCBPolicy(K, rate) #Original KL UCB\n",
    "total_rewards_list_klucb = np.zeros((runs, T))\n",
    "actions_list_klucb = []\n",
    "\n",
    "start_time = time.time()\n",
    "\n",
    "for run in range(runs):\n",
    "    c_ts.reset()\n",
    "    actions_c_ts = np.zeros((K, T), dtype=int)\n",
    "    rewards_c_ts = np.zeros((K, T), dtype=float)\n",
    "\n",
    "    ts.reset()\n",
    "    actions_ts = np.zeros((K, T), dtype=int)\n",
    "    rewards_ts = np.zeros((K, T), dtype=float)\n",
    "\n",
    "    cklucb.reset()\n",
    "    actions_cklucb = np.zeros((K, T), dtype=int)\n",
    "    rewards_cklucb = np.zeros((K, T), dtype=float)\n",
    "\n",
    "    klucb.reset()\n",
    "    actions_klucb = np.zeros((K, T), dtype=int)\n",
    "    rewards_klucb = np.zeros((K, T), dtype=float)\n",
    "\n",
    "    for t in range(T):\n",
    "        c_ts.reduce_set()\n",
    "        arm_c_ts = c_ts.select_next_arm()\n",
    "        actions_c_ts[arm_c_ts, t] = 1\n",
    "        rewards_c_ts[arm_c_ts, t] = np.random.binomial(1, p[arm_c_ts]) * rate[arm_c_ts]\n",
    "        c_ts.update_state(arm_c_ts, int(rewards_c_ts[arm_c_ts, t] / rate[arm_c_ts]))\n",
    "\n",
    "        arm_ts = ts.select_next_arm()\n",
    "        actions_ts[arm_ts, t] = 1\n",
    "        rewards_ts[arm_ts, t] = np.random.binomial(1, p[arm_ts]) * rate[arm_ts]\n",
    "        ts.update_state(arm_ts, int(rewards_ts[arm_ts, t] / rate[arm_ts]))\n",
    "\n",
    "        cklucb.reduce_set()\n",
    "        arm_cklucb = cklucb.select_next_arm()\n",
    "        actions_cklucb[arm_cklucb, t] = 1\n",
    "        rewards_cklucb[arm_cklucb, t] = np.random.binomial(1, p[arm_cklucb]) * rate[arm_cklucb]\n",
    "        cklucb.update_state(arm_cklucb, int(rewards_cklucb[arm_cklucb, t] / rate[arm_cklucb]))\n",
    "\n",
    "        arm_klucb = klucb.select_next_arm()\n",
    "        actions_klucb[arm_klucb, t] = 1\n",
    "        rewards_klucb[arm_klucb, t] = np.random.binomial(1, p[arm_klucb]) * rate[arm_klucb]\n",
    "        klucb.update_state(arm_klucb, rewards_klucb[arm_klucb, t] / rate[arm_klucb])\n",
    "\n",
    "    cumulative_rewards_c_ts = np.cumsum(rewards_c_ts, axis=1) #Cumulative rewards of each arm according to time\n",
    "    total_rewards_c_ts = np.sum(cumulative_rewards_c_ts, axis=0) #Cumulative rewards of all arms according to time\n",
    "    total_rewards_list_c_ts[run, :] = np.copy(total_rewards_c_ts)\n",
    "    actions_list_c_ts.append(np.copy(actions_c_ts))\n",
    "\n",
    "    cumulative_rewards_ts = np.cumsum(rewards_ts, axis=1) #Cumulative rewards of each arm according to time\n",
    "    total_rewards_ts = np.sum(cumulative_rewards_ts, axis=0) #Cumulative rewards of all arms according to time\n",
    "    total_rewards_list_ts[run, :] = np.copy(total_rewards_ts)\n",
    "    actions_list_ts.append(np.copy(actions_ts))\n",
    "\n",
    "    cumulative_rewards_cklucb = np.cumsum(rewards_cklucb, axis=1) #Cumulative rewards of each arm according to time\n",
    "    total_rewards_cklucb = np.sum(cumulative_rewards_cklucb, axis=0) #Cumulative rewards of all arms according to time\n",
    "    total_rewards_list_cklucb[run, :] = np.copy(total_rewards_cklucb)\n",
    "    actions_list_cklucb.append(np.copy(actions_cklucb))\n",
    "\n",
    "    cumulative_rewards_klucb = np.cumsum(rewards_klucb, axis=1) #Cumulative rewards of each arm according to time\n",
    "    total_rewards_klucb = np.sum(cumulative_rewards_klucb, axis=0) #Cumulative rewards of all arms according to time\n",
    "    total_rewards_list_klucb[run, :] = np.copy(total_rewards_klucb)\n",
    "    actions_list_klucb.append(np.copy(actions_klucb))\n",
    "\n",
    "time_spent = time.time() - start_time"
   ],
   "metadata": {
    "collapsed": false,
    "pycharm": {
     "name": "#%%\n"
    }
   }
  },
  {
   "cell_type": "markdown",
   "source": [
    "## Simulation Result"
   ],
   "metadata": {
    "collapsed": false,
    "pycharm": {
     "name": "#%% md\n"
    }
   }
  },
  {
   "cell_type": "code",
   "execution_count": 17,
   "outputs": [],
   "source": [
    "# print(\"Time for Thompson Sampling, with T =\", T, \", runs =\", runs, \":\", (time_spent), \"seconds\")\n",
    "#\n",
    "# ## Average total rewards\n",
    "# mean_total_rewards_c_ts = np.mean(total_rewards_list_c_ts, axis=0)\n",
    "# mean_total_rewards_ts = np.mean(total_rewards_list_ts, axis=0)\n",
    "# mean_total_rewards_klucb = np.mean(total_rewards_list_klucb, axis=0)\n",
    "# print(\"t & Reward (total) c_ts :\", t, mean_total_rewards_c_ts[t])\n",
    "# print(\"t & Reward (total) ts :\", t, mean_total_rewards_ts[t])\n",
    "# print(\"t & Reward (total) KL-UCB :\", t, mean_total_rewards_klucb[t])\n",
    "#\n",
    "# fig = plt.figure(figsize=(12, 8))\n",
    "# ax1 = fig.add_subplot(1, 1, 1)\n",
    "# ax1.plot(mean_total_rewards_c_ts, linestyle='-', label='Average total rewards of C-TS')\n",
    "# ax1.plot(mean_total_rewards_ts, linestyle='-', label='Average total rewards of TS')\n",
    "# ax1.plot(mean_total_rewards_klucb, linestyle='-', label='Average total rewards of KL-UCB')\n",
    "# ax1.legend(loc='best')\n",
    "# ax1.set_title('Evolution of cumulative rewards according to time')\n",
    "# plt.show()"
   ],
   "metadata": {
    "collapsed": false,
    "pycharm": {
     "name": "#%%\n"
    }
   }
  },
  {
   "cell_type": "code",
   "execution_count": 18,
   "outputs": [
    {
     "data": {
      "text/plain": "<Figure size 864x576 with 1 Axes>",
      "image/png": "[encoded data removed]"
     },
     "metadata": {
      "needs_background": "light"
     },
     "output_type": "display_data"
    }
   ],
   "source": [
    "#Regrets calculation for TS\n",
    "total_action_c_ts = np.zeros((K, T))\n",
    "for actions_c_ts in actions_list_c_ts:\n",
    "    total_action_c_ts += np.cumsum(actions_c_ts, axis=1)  #The cumulative times of each arm to be selected\n",
    "total_action_c_ts = total_action_c_ts / runs\n",
    "regret_cumule_c_ts = np.dot(Delta, total_action_c_ts[:, :])  # Cumulative regrets\n",
    "\n",
    "total_action_ts = np.zeros((K,T))\n",
    "for actions_ts in actions_list_ts:\n",
    "    total_action_ts += np.cumsum(actions_ts, axis=1)  #The cumulative times of each arm to be selected\n",
    "total_action_ts = total_action_ts / runs\n",
    "regret_cumule_ts = np.dot(Delta, total_action_ts[:, :])  # Cumulative regrets\n",
    "\n",
    "total_action_cklucb = np.zeros((K, T))\n",
    "for actions_cklucb in actions_list_cklucb:\n",
    "    total_action_cklucb += np.cumsum(actions_cklucb, axis=1) #The cumulative times of each arm to be selected\n",
    "total_action_cklucb = total_action_cklucb / runs\n",
    "regret_cumule_cklucb = np.dot(Delta, total_action_cklucb[:, :]) # Cumulative regrec_ts\n",
    "\n",
    "total_action_klucb = np.zeros((K, T))\n",
    "for actions_klucb in actions_list_klucb:\n",
    "    total_action_klucb += np.cumsum(actions_klucb, axis=1) #The cumulative times of each arm to be selected\n",
    "total_action_klucb = total_action_klucb / runs\n",
    "regret_cumule_klucb = np.dot(Delta, total_action_klucb[:, :]) # Cumulative regrec_ts\n",
    "\n",
    "fig = plt.figure(figsize=(12, 8))\n",
    "ax1 = fig.add_subplot(1, 1, 1)\n",
    "ax1.plot(regret_cumule_c_ts[:], linestyle='-', label='C-TS')\n",
    "ax1.plot(regret_cumule_ts[:], linestyle='-', label='TS')\n",
    "ax1.plot(regret_cumule_cklucb[:],linestyle='--', label='C-KLUCB')\n",
    "ax1.plot(regret_cumule_klucb[:],linestyle='--', label='KLUCB')\n",
    "\n",
    "ax1.legend(loc='best')\n",
    "ax1.grid()\n",
    "ax1.set_title('Evolution of average cumulative regrets according to time')\n",
    "#ax1.xscale('log')\n",
    "plt.show()"
   ],
   "metadata": {
    "collapsed": false,
    "pycharm": {
     "name": "#%%\n"
    }
   }
  }
 ],
 "metadata": {
  "kernelspec": {
   "display_name": "Python 3",
   "language": "python",
   "name": "python3"
  },
  "language_info": {
   "codemirror_mode": {
    "name": "ipython",
    "version": 2
   },
   "file_extension": ".py",
   "mimetype": "text/x-python",
   "name": "python",
   "nbconvert_exporter": "python",
   "pygments_lexer": "ipython2",
   "version": "2.7.6"
  }
 },
 "nbformat": 4,
 "nbformat_minor": 0
}