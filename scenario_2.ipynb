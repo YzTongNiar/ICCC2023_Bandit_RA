{
 "cells": [
  {
   "cell_type": "markdown",
   "metadata": {
    "pycharm": {
     "name": "#%% md\n"
    }
   },
   "source": [
    "Basé sur l'article \"[The KL-UCB algortihm for bounded stochastic bandits and beyond](https://arxiv.org/abs/1102.2490)\" de **Aurélien Garivier** et **Olivier Cappé**."
   ]
  },
  {
   "cell_type": "code",
   "execution_count": 63,
   "metadata": {
    "collapsed": true,
    "pycharm": {
     "name": "#%%\n"
    }
   },
   "outputs": [],
   "source": [
    "import time\n",
    "import numpy as np\n",
    "import math\n",
    "import matplotlib.pyplot as plt\n",
    "import pickle\n",
    "%matplotlib inline"
   ]
  },
  {
   "cell_type": "code",
   "execution_count": 64,
   "metadata": {
    "collapsed": false,
    "pycharm": {
     "name": "#%%\n"
    }
   },
   "outputs": [
    {
     "name": "stdout",
     "output_type": "stream",
     "text": [
      "The autoreload extension is already loaded. To reload it, use:\n",
      "  %reload_ext autoreload\n"
     ]
    }
   ],
   "source": [
    "%load_ext autoreload\n",
    "%autoreload 2\n",
    "import kl_ucb_policy"
   ]
  },
  {
   "cell_type": "code",
   "execution_count": 65,
   "metadata": {
    "collapsed": false,
    "pycharm": {
     "name": "#%%\n"
    }
   },
   "outputs": [
    {
     "name": "stdout",
     "output_type": "stream",
     "text": [
      "Pi: [0.9  0.8  0.7  0.55 0.45 0.35 0.2  0.1 ]\n",
      "delta: [7.2 5.4 4.2 2.7 1.8 0.  3.  7.2]\n"
     ]
    }
   ],
   "source": [
    "#Paramètres du scenario 2\n",
    "# p = np.array([.99, .98, .96, .93, .90, .10, .06, .04]) #Bernoulli Parameters\n",
    "# p = np.array([.95, .90, .80, .65, .45, .25, .15, .10])\n",
    "p = np.array([.90, .80, .70, .55, .45, .35, .20, .10])\n",
    "rate = np.array([6, 9, 12, 18, 24, 36, 48, 54])\n",
    "tp = np.multiply(p,rate)\n",
    "\n",
    "K= p.shape[0] #Number of branches\n",
    "delta= ( np.ones(K)*np.max(tp) ) - tp\n",
    "\n",
    "T= 5000 #Time periods\n",
    "runs = 1 #Number of iterations\n",
    "\n",
    "print(\"Pi:\",p)\n",
    "print(\"delta:\",delta)"
   ]
  },
  {
   "cell_type": "markdown",
   "metadata": {
    "pycharm": {
     "name": "#%% md\n"
    }
   },
   "source": [
    "## KL-UCB"
   ]
  },
  {
   "cell_type": "code",
   "execution_count": 66,
   "metadata": {
    "collapsed": true,
    "pycharm": {
     "name": "#%%\n"
    }
   },
   "outputs": [],
   "source": [
    "%%capture\n",
    "klucb_dichotomie = kl_ucb_policy.KLUCBPolicy(K, rate, kl_ucb_policy.klucb_upper_bisection)\n",
    "\n",
    "total_rewards_list_klucb_dichotomie = np.zeros((runs,T))\n",
    "actions_list_klucb_dichotomie = []\n",
    "start_time = time.time()\n",
    "\n",
    "for run in range(runs):\n",
    "    klucb_dichotomie.reset()\n",
    "    actions = np.zeros((K, T), dtype=np.int)\n",
    "    rewards = np.zeros((K, T), dtype=np.float)\n",
    "\n",
    "    for t in range(T):\n",
    "        arm = klucb_dichotomie.select_next_arm()\n",
    "        actions[arm, t] = 1\n",
    "        rewards[arm, t] = np.random.binomial(1, p[arm])*rate[arm]\n",
    "        klucb_dichotomie.update_state(arm, rewards[arm, t]/rate[arm])\n",
    "\n",
    "    cumulative_rewards = np.cumsum(rewards, axis=1) #Cumulative rewards of each arm according to time\n",
    "    total_rewards = np.sum(cumulative_rewards, axis=0) #Cumulative rewards of all arms according to time\n",
    "    total_rewards_list_klucb_dichotomie[run,:] = np.copy(total_rewards)\n",
    "    actions_list_klucb_dichotomie.append(np.copy(actions))\n",
    "\n",
    "time_spent_klucb_dichotomie = time.time() - start_time"
   ]
  },
  {
   "cell_type": "code",
   "execution_count": 67,
   "metadata": {
    "collapsed": false,
    "pycharm": {
     "name": "#%%\n"
    }
   },
   "outputs": [
    {
     "name": "stdout",
     "output_type": "stream",
     "text": [
      "Time for KL-UCB (Newton), with T = 5000 , runs = 1 : 0.5741293430328369 seconds\n"
     ]
    }
   ],
   "source": [
    "print(\"Time for KL-UCB (Newton), with T =\", T, \", runs =\", runs, \":\", (time_spent_klucb_dichotomie), \"seconds\")"
   ]
  },
  {
   "cell_type": "markdown",
   "metadata": {
    "pycharm": {
     "name": "#%% md\n"
    }
   },
   "source": [
    "## Résultats"
   ]
  },
  {
   "cell_type": "markdown",
   "metadata": {
    "pycharm": {
     "name": "#%% md\n"
    }
   },
   "source": [
    "## Gain total moyen"
   ]
  },
  {
   "cell_type": "code",
   "execution_count": 68,
   "metadata": {
    "collapsed": false,
    "pycharm": {
     "name": "#%%\n"
    }
   },
   "outputs": [
    {
     "name": "stdout",
     "output_type": "stream",
     "text": [
      "t & Reward (total) KL-UCB : 4999 61017.0\n"
     ]
    }
   ],
   "source": [
    "mean_total_rewards_list_klucb_dichotomie = np.mean(total_rewards_list_klucb_dichotomie, axis=0)\n",
    "print(\"t & Reward (total) KL-UCB :\",t, mean_total_rewards_list_klucb_dichotomie[t] )"
   ]
  },
  {
   "cell_type": "code",
   "execution_count": 69,
   "metadata": {
    "collapsed": false,
    "pycharm": {
     "name": "#%%\n"
    }
   },
   "outputs": [
    {
     "data": {
      "text/plain": "<Figure size 864x576 with 1 Axes>",
      "image/png": "[encoded data removed]"
     },
     "metadata": {
      "needs_background": "light"
     },
     "output_type": "display_data"
    }
   ],
   "source": [
    "fig=plt.figure(figsize=(12,8))\n",
    "ax1 = fig.add_subplot(1,1,1)\n",
    "ax1.plot(mean_total_rewards_list_klucb_dichotomie[:400],linestyle='-',label='Gain total moyen KL-UCB')\n",
    "ax1.legend(loc='best')\n",
    "plt.show()"
   ]
  },
  {
   "cell_type": "markdown",
   "metadata": {
    "pycharm": {
     "name": "#%% md\n"
    }
   },
   "source": []
  },
  {
   "cell_type": "code",
   "execution_count": 70,
   "metadata": {
    "collapsed": false,
    "pycharm": {
     "name": "#%%\n"
    }
   },
   "outputs": [],
   "source": [
    "#KL-UCB\n",
    "total_action_klucb = np.zeros((K,T))\n",
    "for actions_klucb in actions_list_klucb_dichotomie:\n",
    "    total_action_klucb += np.cumsum(actions_klucb, axis=1) #The cumulative times of each arm to be selected\n",
    "total_action_klucb = total_action_klucb / runs\n",
    "regret_cumule_klucb = np.dot(delta, total_action_klucb[:,:]) # Cumulative regrets"
   ]
  },
  {
   "cell_type": "code",
   "execution_count": 71,
   "metadata": {
    "collapsed": false,
    "pycharm": {
     "name": "#%%\n"
    }
   },
   "outputs": [
    {
     "data": {
      "text/plain": "<Figure size 864x576 with 1 Axes>",
      "image/png": "[encoded data removed]"
     },
     "metadata": {
      "needs_background": "light"
     },
     "output_type": "display_data"
    }
   ],
   "source": [
    "fig=plt.figure(figsize=(12,8))\n",
    "ax1 = fig.add_subplot(1,1,1)\n",
    "\n",
    "ax1.plot(regret_cumule_klucb[:],linestyle='-', label='KL-UCB')\n",
    "\n",
    "ax1.legend(loc='best')\n",
    "ax1.grid()\n",
    "ax1.set_title('Evolution of average cumulative regrets according to time')\n",
    "#ax1.xscale('log')\n",
    "plt.show()"
   ]
  },
  {
   "cell_type": "markdown",
   "metadata": {
    "pycharm": {
     "name": "#%% md\n"
    }
   },
   "source": [
    "## Distribution du regret"
   ]
  },
  {
   "cell_type": "code",
   "execution_count": 72,
   "metadata": {
    "collapsed": true,
    "pycharm": {
     "name": "#%%\n"
    }
   },
   "outputs": [],
   "source": [
    "T0 = 4999"
   ]
  },
  {
   "cell_type": "code",
   "execution_count": 73,
   "metadata": {
    "collapsed": true,
    "pycharm": {
     "name": "#%%\n"
    }
   },
   "outputs": [],
   "source": [
    "#KL-UCB\n",
    "distribution_regret_klucb = []\n",
    "for actions_klucb in actions_list_klucb_dichotomie:\n",
    "    distribution_regret_klucb.append(np.dot(delta, np.sum(actions_klucb[:,:T0], axis=1)))"
   ]
  },
  {
   "cell_type": "code",
   "execution_count": 74,
   "metadata": {
    "collapsed": false,
    "pycharm": {
     "name": "#%%\n"
    }
   },
   "outputs": [
    {
     "data": {
      "text/plain": "<Figure size 864x576 with 1 Axes>",
      "image/png": "[encoded data removed]"
     },
     "metadata": {
      "needs_background": "light"
     },
     "output_type": "display_data"
    }
   ],
   "source": [
    "fig=plt.figure(figsize=(12,8))\n",
    "ax = fig.add_subplot(1,1,1)\n",
    "\n",
    "ax.boxplot([\n",
    "        distribution_regret_klucb\n",
    "    ])\n",
    "ax.set_xticklabels([\n",
    "        'KL-UCB'\n",
    "    ])\n",
    "\n",
    "ax.set_title('Boxplot of regret when t = 5000')\n",
    "plt.show()"
   ]
  }
 ],
 "metadata": {
  "anaconda-cloud": {},
  "kernelspec": {
   "name": "python3",
   "language": "python",
   "display_name": "Python 3 (ipykernel)"
  },
  "language_info": {
   "codemirror_mode": {
    "name": "ipython",
    "version": 3
   },
   "file_extension": ".py",
   "mimetype": "text/x-python",
   "name": "python",
   "nbconvert_exporter": "python",
   "pygments_lexer": "ipython3",
   "version": "3.6.3"
  }
 },
 "nbformat": 4,
 "nbformat_minor": 1
}