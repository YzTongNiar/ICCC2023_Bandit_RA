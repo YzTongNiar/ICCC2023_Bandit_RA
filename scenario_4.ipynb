{
 "cells": [
  {
   "cell_type": "markdown",
   "metadata": {
    "pycharm": {
     "name": "#%% md\n"
    }
   },
   "source": [
    "Basé sur l'article \"[The KL-UCB algortihm for bounded stochastic bandits and beyond](https://arxiv.org/abs/1102.2490)\" de **Aurélien Garivier** et **Olivier Cappé**."
   ]
  },
  {
   "cell_type": "code",
   "execution_count": 73,
   "outputs": [],
   "source": [
    "import time\n",
    "import numpy as np\n",
    "import math\n",
    "import matplotlib.pyplot as plt\n",
    "import pickle\n",
    "import random\n",
    "%matplotlib inline"
   ],
   "metadata": {
    "collapsed": false,
    "pycharm": {
     "name": "#%%\n"
    }
   }
  },
  {
   "cell_type": "code",
   "execution_count": 74,
   "metadata": {
    "pycharm": {
     "name": "#%%\n"
    }
   },
   "outputs": [
    {
     "name": "stdout",
     "output_type": "stream",
     "text": [
      "The autoreload extension is already loaded. To reload it, use:\n",
      "  %reload_ext autoreload\n"
     ]
    }
   ],
   "source": [
    "%load_ext autoreload\n",
    "%autoreload 2\n",
    "import kl_ucb_policy"
   ]
  },
  {
   "cell_type": "code",
   "execution_count": 75,
   "metadata": {
    "pycharm": {
     "name": "#%%\n"
    }
   },
   "outputs": [
    {
     "name": "stdout",
     "output_type": "stream",
     "text": [
      "Pi: [6.   5.4  4.8  4.5  4.32 3.6  2.88 2.56]\n",
      "Pi: [4.8  5.4  4.8  4.5  4.32 3.6  2.88 2.56]\n",
      "Pi: [ 5.7  8.1 11.4  9.9  9.6  9.   7.2  6.4]\n",
      "Pi: [ 5.7  8.1  9.6 11.7 10.8  9.   7.2  6.4]\n",
      "Pi: [ 5.94  8.82 11.52 16.74 21.6   3.6   2.88  2.56]\n",
      "Pi: [ 5.4  7.2  8.4  9.9 10.8 12.6  9.6  6.4]\n",
      "Pi: [ 5.4   7.2   8.4   9.9  12.   13.68 14.4  12.8 ]\n",
      "Pi: [ 5.4   7.2   8.4   9.9  12.   13.68 14.4  16.  ]\n"
     ]
    }
   ],
   "source": [
    "#Paramètres du scenario 4\n",
    "#Bernoulli Parameters\n",
    "p0 = np.array([1., .6, .4, .25, .18, .1, .06, .04]) #0\n",
    "p1 = np.array([.8, .6, .4, .25, .18, .1, .06, .04]) #1\n",
    "p2 = np.array([.95, .90, .95, .55, .4, .25, .15, .10]) #2\n",
    "p3 = np.array([.95, .90, .80, .65, .45, .25, .15, .10]) #3\n",
    "p4 = np.array([.99, .98, .96, .93, .90, .10, .06, .04]) #4\n",
    "p5 = np.array([.90, .80, .70, .55, .45, .35, .20, .10]) #5\n",
    "p6 = np.array([.90, .80, .70, .55, .50, .38, .30, .20]) #6\n",
    "p7 = np.array([.90, .80, .70, .55, .50, .38, .30, .25]) #7\n",
    "\n",
    "rate = np.array([6, 9, 12, 18, 24, 36, 48, 64])\n",
    "\n",
    "tp0 = np.multiply(p0,rate)\n",
    "tp1 = np.multiply(p1,rate)\n",
    "tp2 = np.multiply(p2,rate)\n",
    "tp3 = np.multiply(p3,rate)\n",
    "tp4 = np.multiply(p4,rate)\n",
    "tp5 = np.multiply(p5,rate)\n",
    "tp6 = np.multiply(p6,rate)\n",
    "tp7 = np.multiply(p7,rate)\n",
    "\n",
    "p = np.array([p0, p1, p2, p3, p4, p5, p6, p7])\n",
    "\n",
    "K= p0.shape[0] #Number of branches\n",
    "# delta= ( np.ones(K)*np.max(tp) ) - tp\n",
    "delta0 = ( np.ones(K)*np.max(tp0) ) - tp0\n",
    "# delta1 = ( np.ones(K)*np.max(tp) ) - tp\n",
    "# delta2 = ( np.ones(K)*np.max(tp) ) - tp\n",
    "T= 5000 #Time periods\n",
    "runs = 1 #Number of iterations\n",
    "print(\"Pi:\",tp0)\n",
    "print(\"Pi:\",tp1)\n",
    "print(\"Pi:\",tp2)\n",
    "print(\"Pi:\",tp3)\n",
    "print(\"Pi:\",tp4)\n",
    "print(\"Pi:\",tp5)\n",
    "print(\"Pi:\",tp6)\n",
    "print(\"Pi:\",tp7)\n",
    "# print(\"delta:\",delta)\n"
   ]
  },
  {
   "cell_type": "markdown",
   "metadata": {
    "pycharm": {
     "name": "#%% md\n"
    }
   },
   "source": [
    "## KL-UCB"
   ]
  },
  {
   "cell_type": "code",
   "execution_count": 76,
   "metadata": {
    "pycharm": {
     "name": "#%%\n"
    }
   },
   "outputs": [
    {
     "name": "stderr",
     "output_type": "stream",
     "text": [
      "C:\\Users\\Vincent\\AppData\\Local\\Temp\\ipykernel_24128\\3418577211.py:12: DeprecationWarning: `np.int` is a deprecated alias for the builtin `int`. To silence this warning, use `int` by itself. Doing this will not modify any behavior and is safe. When replacing `np.int`, you may wish to use e.g. `np.int64` or `np.int32` to specify the precision. If you wish to review your current use, check the release note link for additional information.\n",
      "Deprecated in NumPy 1.20; for more details and guidance: https://numpy.org/devdocs/release/1.20.0-notes.html#deprecations\n",
      "  actions_gors = np.zeros((K, T), dtype=np.int)\n",
      "C:\\Users\\Vincent\\AppData\\Local\\Temp\\ipykernel_24128\\3418577211.py:13: DeprecationWarning: `np.float` is a deprecated alias for the builtin `float`. To silence this warning, use `float` by itself. Doing this will not modify any behavior and is safe. If you specifically wanted the numpy scalar type, use `np.float64` here.\n",
      "Deprecated in NumPy 1.20; for more details and guidance: https://numpy.org/devdocs/release/1.20.0-notes.html#deprecations\n",
      "  rewards_gors = np.zeros((K, T), dtype=np.float)\n",
      "C:\\Users\\Vincent\\AppData\\Local\\Temp\\ipykernel_24128\\3418577211.py:15: DeprecationWarning: `np.int` is a deprecated alias for the builtin `int`. To silence this warning, use `int` by itself. Doing this will not modify any behavior and is safe. When replacing `np.int`, you may wish to use e.g. `np.int64` or `np.int32` to specify the precision. If you wish to review your current use, check the release note link for additional information.\n",
      "Deprecated in NumPy 1.20; for more details and guidance: https://numpy.org/devdocs/release/1.20.0-notes.html#deprecations\n",
      "  actions_klucb = np.zeros((K, T), dtype=np.int)\n",
      "C:\\Users\\Vincent\\AppData\\Local\\Temp\\ipykernel_24128\\3418577211.py:16: DeprecationWarning: `np.float` is a deprecated alias for the builtin `float`. To silence this warning, use `float` by itself. Doing this will not modify any behavior and is safe. If you specifically wanted the numpy scalar type, use `np.float64` here.\n",
      "Deprecated in NumPy 1.20; for more details and guidance: https://numpy.org/devdocs/release/1.20.0-notes.html#deprecations\n",
      "  rewards_klucb = np.zeros((K, T), dtype=np.float)\n"
     ]
    },
    {
     "name": "stdout",
     "output_type": "stream",
     "text": [
      "1\n",
      "2\n",
      "3\n",
      "4\n",
      "5\n",
      "6\n",
      "7\n"
     ]
    }
   ],
   "source": [
    "# %%capture\n",
    "gors = kl_ucb_policy.GORS(K, rate) #Optimal Graphical OptimalRate Sampling\n",
    "total_rewards_list_gors = np.zeros((runs, T))\n",
    "actions_list_gors = []\n",
    "klucb = kl_ucb_policy.KLUCBPolicy(K, rate) #Original KL UCB\n",
    "total_rewards_list_klucb = np.zeros((runs, T))\n",
    "actions_list_klucb = []\n",
    "start_time = time.time()\n",
    "\n",
    "for run in range(runs):\n",
    "    gors.reset()\n",
    "    actions_gors = np.zeros((K, T), dtype=np.int)\n",
    "    rewards_gors = np.zeros((K, T), dtype=np.float)\n",
    "    klucb.reset()\n",
    "    actions_klucb = np.zeros((K, T), dtype=np.int)\n",
    "    rewards_klucb = np.zeros((K, T), dtype=np.float)\n",
    "    index = 0\n",
    "    p_index = 0\n",
    "    for t in range(T):\n",
    "        if index == T//8:\n",
    "            p_index += 1\n",
    "            index = 0\n",
    "            print(p_index)\n",
    "        else:\n",
    "            index += 1\n",
    "\n",
    "        # arm_gors = gors.select_next_arm(8)\n",
    "        # actions_gors[arm_gors, t] = 1\n",
    "        # rewards_gors[arm_gors, t] = np.random.binomial(1, p[p_index][arm_gors]) * rate[arm_gors]\n",
    "        # gors.update_state(arm_gors, rewards_gors[arm_gors, t] / rate[arm_gors])\n",
    "        # TODO: FIX the error\n",
    "\n",
    "        arm_klucb = klucb.select_next_arm()\n",
    "        actions_klucb[arm_klucb, t] = 1\n",
    "        rewards_klucb[arm_klucb, t] = np.random.binomial(1, p[p_index][arm_klucb]) * rate[arm_klucb]\n",
    "        klucb.update_state(arm_klucb, rewards_klucb[arm_klucb, t] / rate[arm_klucb])\n",
    "\n",
    "    cumulative_rewards_gors = np.cumsum(rewards_gors, axis=1) #Cumulative rewards of each arm according to time\n",
    "    total_rewards_gors = np.sum(cumulative_rewards_gors, axis=0) #Cumulative rewards of all arms according to time\n",
    "    total_rewards_list_gors[run, :] = np.copy(total_rewards_gors)\n",
    "    actions_list_gors.append(np.copy(actions_gors))\n",
    "\n",
    "    cumulative_rewards_klucb = np.cumsum(rewards_klucb, axis=1)\n",
    "    total_rewards_klucb = np.sum(cumulative_rewards_klucb, axis=0)\n",
    "    total_rewards_list_klucb[run, :] = np.copy(total_rewards_klucb)\n",
    "    actions_list_klucb.append(np.copy(actions_klucb))\n",
    "\n",
    "time_spent = time.time() - start_time"
   ]
  },
  {
   "cell_type": "code",
   "execution_count": 77,
   "metadata": {
    "pycharm": {
     "name": "#%%\n"
    }
   },
   "outputs": [
    {
     "name": "stdout",
     "output_type": "stream",
     "text": [
      "Time for KL-UCB (Newton), with T = 5000 , runs = 1 : 0.47688984870910645 seconds\n"
     ]
    }
   ],
   "source": [
    "print(\"Time for KL-UCB (Newton), with T =\", T, \", runs =\", runs, \":\", (time_spent), \"seconds\")"
   ]
  },
  {
   "cell_type": "markdown",
   "metadata": {
    "pycharm": {
     "name": "#%% md\n"
    }
   },
   "source": [
    "## Résultats"
   ]
  },
  {
   "cell_type": "markdown",
   "metadata": {
    "pycharm": {
     "name": "#%% md\n"
    }
   },
   "source": [
    "## Gain total moyen"
   ]
  },
  {
   "cell_type": "code",
   "execution_count": 78,
   "metadata": {
    "pycharm": {
     "name": "#%%\n"
    }
   },
   "outputs": [
    {
     "name": "stdout",
     "output_type": "stream",
     "text": [
      "t & Reward (total) G-ORS : 4999 0.0\n",
      "t & Reward (total) KL-UCB : 4999 33387.0\n"
     ]
    }
   ],
   "source": [
    "mean_total_rewards_gors = np.mean(total_rewards_list_gors, axis=0)\n",
    "mean_total_rewards_klucb = np.mean(total_rewards_list_klucb, axis=0)\n",
    "print(\"t & Reward (total) G-ORS :\", t, mean_total_rewards_gors[t])\n",
    "print(\"t & Reward (total) KL-UCB :\", t, mean_total_rewards_klucb[t])"
   ]
  },
  {
   "cell_type": "code",
   "execution_count": 79,
   "metadata": {
    "pycharm": {
     "name": "#%%\n"
    }
   },
   "outputs": [
    {
     "data": {
      "text/plain": "<Figure size 1200x800 with 1 Axes>",
      "image/png": "[encoded data removed]"
     },
     "metadata": {},
     "output_type": "display_data"
    }
   ],
   "source": [
    "fig=plt.figure(figsize=(12,8))\n",
    "ax1 = fig.add_subplot(1,1,1)\n",
    "ax1.plot(mean_total_rewards_gors, linestyle='-', label='Average total rewards of G-ORS')\n",
    "ax1.plot(mean_total_rewards_klucb, linestyle='-', label='Average total rewards of KL-UCB')\n",
    "ax1.legend(loc='best')\n",
    "plt.show()"
   ]
  },
  {
   "cell_type": "markdown",
   "metadata": {
    "pycharm": {
     "name": "#%% md\n"
    }
   },
   "source": []
  },
  {
   "cell_type": "code",
   "execution_count": 80,
   "metadata": {
    "pycharm": {
     "name": "#%%\n"
    }
   },
   "outputs": [
    {
     "ename": "NameError",
     "evalue": "name 'delta' is not defined",
     "output_type": "error",
     "traceback": [
      "\u001B[1;31m---------------------------------------------------------------------------\u001B[0m",
      "\u001B[1;31mNameError\u001B[0m                                 Traceback (most recent call last)",
      "Input \u001B[1;32mIn [80]\u001B[0m, in \u001B[0;36m<cell line: 6>\u001B[1;34m()\u001B[0m\n\u001B[0;32m      4\u001B[0m     total_action_gors \u001B[38;5;241m+\u001B[39m\u001B[38;5;241m=\u001B[39m np\u001B[38;5;241m.\u001B[39mcumsum(actions_gors, axis\u001B[38;5;241m=\u001B[39m\u001B[38;5;241m1\u001B[39m) \u001B[38;5;66;03m#The cumulative times of each arm to be selected\u001B[39;00m\n\u001B[0;32m      5\u001B[0m total_action_gors \u001B[38;5;241m=\u001B[39m total_action_gors \u001B[38;5;241m/\u001B[39m runs\n\u001B[1;32m----> 6\u001B[0m regret_cumule_gors \u001B[38;5;241m=\u001B[39m np\u001B[38;5;241m.\u001B[39mdot(\u001B[43mdelta\u001B[49m, total_action_gors[:, :]) \u001B[38;5;66;03m# Cumulative regrets\u001B[39;00m\n\u001B[0;32m      7\u001B[0m \u001B[38;5;66;03m#Regrest calculation for KL-UCB\u001B[39;00m\n\u001B[0;32m      8\u001B[0m total_action_klucb \u001B[38;5;241m=\u001B[39m np\u001B[38;5;241m.\u001B[39mzeros((K, T))\n",
      "\u001B[1;31mNameError\u001B[0m: name 'delta' is not defined"
     ]
    }
   ],
   "source": [
    "#Regrets calculation for G-ORS\n",
    "total_action_gors = np.zeros((K, T))\n",
    "for actions_gors in actions_list_gors:\n",
    "    total_action_gors += np.cumsum(actions_gors, axis=1) #The cumulative times of each arm to be selected\n",
    "total_action_gors = total_action_gors / runs\n",
    "regret_cumule_gors = np.dot(delta, total_action_gors[:, :]) # Cumulative regrets\n",
    "#Regrest calculation for KL-UCB\n",
    "total_action_klucb = np.zeros((K, T))\n",
    "for actions_klucb in actions_list_klucb:\n",
    "    total_action_klucb += np.cumsum(actions_klucb, axis=1) #The cumulative times of each arm to be selected\n",
    "total_action_klucb = total_action_klucb / runs\n",
    "regret_cumule_klucb = np.dot(delta, total_action_klucb[:, :]) # Cumulative regrets"
   ]
  },
  {
   "cell_type": "code",
   "execution_count": null,
   "metadata": {
    "pycharm": {
     "name": "#%%\n"
    }
   },
   "outputs": [],
   "source": [
    "fig=plt.figure(figsize=(12,8))\n",
    "ax1 = fig.add_subplot(1,1,1)\n",
    "\n",
    "ax1.plot(regret_cumule_gors[:],linestyle='-', label='G-ORS')\n",
    "ax1.plot(regret_cumule_klucb[:],linestyle='-', label='KL-UCB')\n",
    "\n",
    "ax1.legend(loc='best')\n",
    "ax1.grid()\n",
    "ax1.set_title('Evolution of average cumulative regrets according to time')\n",
    "#ax1.xscale('log')\n",
    "plt.show()"
   ]
  },
  {
   "cell_type": "markdown",
   "metadata": {
    "pycharm": {
     "name": "#%% md\n"
    }
   },
   "source": [
    "## Distribution du regret"
   ]
  },
  {
   "cell_type": "code",
   "execution_count": null,
   "metadata": {
    "pycharm": {
     "name": "#%%\n"
    }
   },
   "outputs": [],
   "source": [
    "T0 = 4999"
   ]
  },
  {
   "cell_type": "code",
   "execution_count": null,
   "metadata": {
    "pycharm": {
     "name": "#%%\n"
    }
   },
   "outputs": [],
   "source": [
    "#G-ORS\n",
    "distribution_regret_gors = []\n",
    "distribution_regret_klucb = []\n",
    "for actions_gors in actions_list_gors:\n",
    "    distribution_regret_gors.append(np.dot(delta, np.sum(actions_gors[:, :T0], axis=1)))\n",
    "for actions_klucb in actions_list_klucb:\n",
    "    distribution_regret_klucb.append(np.dot(delta, np.sum(actions_klucb[:, :T0], axis=1)))"
   ]
  },
  {
   "cell_type": "code",
   "execution_count": null,
   "metadata": {
    "pycharm": {
     "name": "#%%\n"
    }
   },
   "outputs": [],
   "source": [
    "fig=plt.figure(figsize=(12,8))\n",
    "ax = fig.add_subplot(1,1,1)\n",
    "\n",
    "ax.boxplot([\n",
    "        distribution_regret_gors,\n",
    "        distribution_regret_klucb\n",
    "    ])\n",
    "ax.set_xticklabels([\n",
    "        'G-ORS',\n",
    "        'KL-UCB'\n",
    "    ])\n",
    "\n",
    "ax.set_title('Boxplot of regret when t = 5000')\n",
    "plt.show()"
   ]
  }
 ],
 "metadata": {
  "kernelspec": {
   "display_name": "Python 3 (ipykernel)",
   "language": "python",
   "name": "python3"
  },
  "language_info": {
   "codemirror_mode": {
    "name": "ipython",
    "version": 3
   },
   "file_extension": ".py",
   "mimetype": "text/x-python",
   "name": "python",
   "nbconvert_exporter": "python",
   "pygments_lexer": "ipython3",
   "version": "3.10.2"
  }
 },
 "nbformat": 4,
 "nbformat_minor": 1
}